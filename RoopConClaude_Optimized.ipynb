{
  "nbformat": 4,
  "nbformat_minor": 0,
  "metadata": {
    "colab": {
      "provenance": [],
      "gpuType": "T4"
    },
    "kernelspec": {
      "name": "python3",
      "display_name": "Python 3"
    },
    "language_info": {
      "name": "python"
    },
    "accelerator": "GPU"
  },
  "cells": [
    {
      "cell_type": "markdown",
      "source": [
        "# 🎭 Roop Batch Processor - Google Colab\n",
        "\n",
        "Sistema optimizado para procesamiento por lotes de face swap en Tesla T4\n",
        "\n",
        "## 📋 Instrucciones:\n",
        "1. **Ejecuta la celda de Setup** (solo una vez)\n",
        "2. **Sube archivos** en las celdas correspondientes\n",
        "3. **Ejecuta el procesamiento** por lotes\n",
        "4. **Descarga resultados**"
      ],
      "metadata": {
        "id": "header"
      }
    },
    {
      "cell_type": "markdown",
      "source": [
        "## 🚀 PASO 1: Setup Inicial (Ejecutar solo UNA vez)"
      ],
      "metadata": {
        "id": "step1"
      }
    },
    {
      "cell_type": "code",
      "source": [
        "%%bash\n",
        "# Clone repository\n",
        "if [ ! -d \"RoopConClaude\" ]; then\n",
        "  git clone https://github.com/CDavidDv/RoopConClaude.git\n",
        "  echo \"✅ Repositorio clonado\"\n",
        "else\n",
        "  echo \"⏭️  Repositorio ya existe\"\n",
        "fi"
      ],
      "metadata": {
        "id": "clone_repo"
      },
      "execution_count": null,
      "outputs": []
    },
    {
      "cell_type": "code",
      "source": [
        "# Change to project directory\n",
        "%cd RoopConClaude\n",
        "\n",
        "# Install dependencies in optimized order\n",
        "print(\"📦 Instalando dependencias optimizadas...\")\n",
        "print(\"⏳ Esto tomará 2-3 minutos...\\n\")\n",
        "\n",
        "!pip install -q numpy==1.23.5\n",
        "!pip install -q tensorflow==2.12.0\n",
        "!pip install -q onnxruntime-gpu==1.15.1\n",
        "!pip install -q opencv-python==4.8.0.74\n",
        "!pip install -q onnx==1.14.0\n",
        "!pip install -q insightface==0.7.3\n",
        "!pip install -q customtkinter==5.2.0\n",
        "!pip install -q gfpgan==1.3.8\n",
        "!pip install -q psutil==5.9.5\n",
        "!pip install -q opennsfw2==0.10.2\n",
        "!pip install -q protobuf==4.23.4\n",
        "!pip install -q tqdm==4.65.0\n",
        "\n",
        "print(\"\\n✅ Dependencias instaladas correctamente\")"
      ],
      "metadata": {
        "id": "install_deps"
      },
      "execution_count": null,
      "outputs": []
    },
    {
      "cell_type": "code",
      "source": [
        "# Verify CUDA availability\n",
        "import onnxruntime as ort\n",
        "\n",
        "providers = ort.get_available_providers()\n",
        "print(\"🔍 Verificación de aceleración por hardware:\\n\")\n",
        "\n",
        "if 'CUDAExecutionProvider' in providers:\n",
        "    print(\"✅ CUDA disponible - Procesamiento acelerado por GPU\")\n",
        "elif 'TensorrtExecutionProvider' in providers:\n",
        "    print(\"✅ TensorRT disponible - Procesamiento acelerado por GPU\")\n",
        "else:\n",
        "    print(\"⚠️  Solo CPU disponible - El procesamiento será más lento\")\n",
        "\n",
        "print(f\"\\n📋 Proveedores disponibles: {providers}\")\n",
        "\n",
        "# Show GPU info\n",
        "!nvidia-smi --query-gpu=name,memory.total,memory.free --format=csv"
      ],
      "metadata": {
        "id": "verify_cuda"
      },
      "execution_count": null,
      "outputs": []
    },
    {
      "cell_type": "markdown",
      "source": [
        "## 📤 PASO 2: Subir Archivos"
      ],
      "metadata": {
        "id": "step2"
      }
    },
    {
      "cell_type": "code",
      "source": [
        "# Upload source image (reference face)\n",
        "from google.colab import files\n",
        "import shutil\n",
        "import os\n",
        "\n",
        "print(\"📸 Sube tu imagen de referencia (la cara que quieres usar)\")\n",
        "print(\"   Formatos soportados: JPG, PNG, BMP\\n\")\n",
        "\n",
        "# Create source folder if it doesn't exist\n",
        "os.makedirs('source', exist_ok=True)\n",
        "\n",
        "# Clear existing files\n",
        "for f in os.listdir('source'):\n",
        "    if f != '.gitkeep':\n",
        "        os.remove(os.path.join('source', f))\n",
        "\n",
        "uploaded = files.upload()\n",
        "\n",
        "for filename, content in uploaded.items():\n",
        "    dst_path = os.path.join('source', filename)\n",
        "    with open(dst_path, 'wb') as f:\n",
        "        f.write(content)\n",
        "    print(f\"✅ Imagen guardada: {dst_path}\")\n",
        "    print(f\"   Tamaño: {len(content)/1024:.1f} KB\")"
      ],
      "metadata": {
        "id": "upload_source"
      },
      "execution_count": null,
      "outputs": []
    },
    {
      "cell_type": "code",
      "source": [
        "# Upload target videos\n",
        "from google.colab import files\n",
        "import os\n",
        "\n",
        "print(\"🎬 Sube los videos que quieres procesar\")\n",
        "print(\"   Formatos soportados: MP4, AVI, MOV, MKV\")\n",
        "print(\"   Puedes subir múltiples videos a la vez\\n\")\n",
        "\n",
        "# Create inputVideos folder if it doesn't exist\n",
        "os.makedirs('inputVideos', exist_ok=True)\n",
        "\n",
        "# Clear existing files\n",
        "for f in os.listdir('inputVideos'):\n",
        "    if f != '.gitkeep':\n",
        "        os.remove(os.path.join('inputVideos', f))\n",
        "\n",
        "uploaded = files.upload()\n",
        "\n",
        "print(f\"\\n📊 Videos subidos:\")\n",
        "for filename, content in uploaded.items():\n",
        "    dst_path = os.path.join('inputVideos', filename)\n",
        "    with open(dst_path, 'wb') as f:\n",
        "        f.write(content)\n",
        "    size_mb = len(content) / 1024 / 1024\n",
        "    print(f\"✅ {filename} ({size_mb:.1f} MB)\")"
      ],
      "metadata": {
        "id": "upload_videos"
      },
      "execution_count": null,
      "outputs": []
    },
    {
      "cell_type": "markdown",
      "source": [
        "## 🔍 PASO 3: Verificar Videos (Opcional pero Recomendado)"
      ],
      "metadata": {
        "id": "step3"
      }
    },
    {
      "cell_type": "code",
      "source": [
        "# Check video validity before processing\n",
        "!python check_videos.py"
      ],
      "metadata": {
        "id": "check_videos"
      },
      "execution_count": null,
      "outputs": []
    },
    {
      "cell_type": "markdown",
      "source": [
        "## 🎯 PASO 4: Procesamiento por Lotes"
      ],
      "metadata": {
        "id": "step4"
      }
    },
    {
      "cell_type": "code",
      "source": [
        "# Run batch processing\n",
        "!python runbatch.py"
      ],
      "metadata": {
        "id": "run_batch"
      },
      "execution_count": null,
      "outputs": []
    },
    {
      "cell_type": "markdown",
      "source": [
        "## 💾 PASO 5: Descargar Resultados"
      ],
      "metadata": {
        "id": "step5"
      }
    },
    {
      "cell_type": "code",
      "source": [
        "# Download processed videos\n",
        "from google.colab import files\n",
        "import os\n",
        "import glob\n",
        "\n",
        "output_files = glob.glob('outputVideos/*.mp4')\n",
        "\n",
        "if output_files:\n",
        "    print(f\"📹 Videos procesados encontrados: {len(output_files)}\\n\")\n",
        "\n",
        "    for video_file in sorted(output_files):\n",
        "        size_mb = os.path.getsize(video_file) / 1024 / 1024\n",
        "        print(f\"⬇️  Descargando: {os.path.basename(video_file)} ({size_mb:.1f} MB)\")\n",
        "        files.download(video_file)\n",
        "\n",
        "    print(f\"\\n✅ Todos los videos descargados\")\n",
        "else:\n",
        "    print(\"❌ No se encontraron videos procesados en outputVideos/\")\n",
        "    print(\"   Verifica que el procesamiento haya completado correctamente\")"
      ],
      "metadata": {
        "id": "download_results"
      },
      "execution_count": null,
      "outputs": []
    },
    {
      "cell_type": "markdown",
      "source": [
        "## 🔄 PASO 6: Limpiar y Procesar Nuevos Videos (Opcional)"
      ],
      "metadata": {
        "id": "step6"
      }
    },
    {
      "cell_type": "code",
      "source": [
        "# Clean up for new batch\n",
        "import shutil\n",
        "import os\n",
        "\n",
        "print(\"🧹 Limpiando archivos para nueva tanda...\\n\")\n",
        "\n",
        "# Clear input videos\n",
        "for f in os.listdir('inputVideos'):\n",
        "    if f != '.gitkeep':\n",
        "        os.remove(os.path.join('inputVideos', f))\n",
        "        print(f\"🗑️  Eliminado: inputVideos/{f}\")\n",
        "\n",
        "# Clear output videos\n",
        "for f in os.listdir('outputVideos'):\n",
        "    if f != '.gitkeep':\n",
        "        os.remove(os.path.join('outputVideos', f))\n",
        "        print(f\"🗑️  Eliminado: outputVideos/{f}\")\n",
        "\n",
        "# Clear temp folder if exists\n",
        "if os.path.exists('temp'):\n",
        "    shutil.rmtree('temp')\n",
        "    print(f\"🗑️  Eliminada carpeta temporal\")\n",
        "\n",
        "print(\"\\n✅ Limpieza completada\")\n",
        "print(\"📝 Ahora puedes volver al PASO 2 para subir nuevos videos\")"
      ],
      "metadata": {
        "id": "cleanup"
      },
      "execution_count": null,
      "outputs": []
    },
    {
      "cell_type": "markdown",
      "source": [
        "## 🔧 Diagnóstico (Solo si hay problemas)"
      ],
      "metadata": {
        "id": "diagnostics"
      }
    },
    {
      "cell_type": "code",
      "source": [
        "# Run diagnostics\n",
        "!python debug_single.py"
      ],
      "metadata": {
        "id": "run_diagnostics"
      },
      "execution_count": null,
      "outputs": []
    },
    {
      "cell_type": "code",
      "source": [
        "# Check disk space\n",
        "!df -h | grep -E \"Filesystem|/dev/root\""
      ],
      "metadata": {
        "id": "check_disk"
      },
      "execution_count": null,
      "outputs": []
    },
    {
      "cell_type": "code",
      "source": [
        "# Update repository (if needed)\n",
        "!git pull origin main"
      ],
      "metadata": {
        "id": "git_pull"
      },
      "execution_count": null,
      "outputs": []
    }
  ]
}